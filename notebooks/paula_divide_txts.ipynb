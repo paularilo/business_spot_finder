{
 "cells": [
  {
   "cell_type": "markdown",
   "id": "4278c6a4",
   "metadata": {},
   "source": [
    "**First notebook project week LeWagon**"
   ]
  },
  {
   "cell_type": "code",
   "execution_count": 8,
   "id": "dd5beadc",
   "metadata": {},
   "outputs": [],
   "source": [
    "import pandas as pd\n",
    "import numpy as np\n",
    "import requests\n",
    "import matplotlib.pyplot as plt"
   ]
  },
  {
   "cell_type": "markdown",
   "id": "b5163c97",
   "metadata": {},
   "source": [
    "**Load first batch of reviews in txt**"
   ]
  },
  {
   "cell_type": "code",
   "execution_count": 29,
   "id": "994d3133",
   "metadata": {},
   "outputs": [],
   "source": [
    "data = pd.read_json('json_files/urls_shops_b1.json')"
   ]
  },
  {
   "cell_type": "code",
   "execution_count": 30,
   "id": "517340a6",
   "metadata": {},
   "outputs": [
    {
     "data": {
      "text/plain": [
       "1893"
      ]
     },
     "execution_count": 30,
     "metadata": {},
     "output_type": "execute_result"
    }
   ],
   "source": [
    "len(data)"
   ]
  },
  {
   "cell_type": "code",
   "execution_count": 34,
   "id": "2864802f",
   "metadata": {},
   "outputs": [],
   "source": [
    "data_red = data.loc[1701:]"
   ]
  },
  {
   "cell_type": "code",
   "execution_count": 35,
   "id": "23c748d5",
   "metadata": {},
   "outputs": [
    {
     "data": {
      "text/html": [
       "<div>\n",
       "<style scoped>\n",
       "    .dataframe tbody tr th:only-of-type {\n",
       "        vertical-align: middle;\n",
       "    }\n",
       "\n",
       "    .dataframe tbody tr th {\n",
       "        vertical-align: top;\n",
       "    }\n",
       "\n",
       "    .dataframe thead th {\n",
       "        text-align: right;\n",
       "    }\n",
       "</style>\n",
       "<table border=\"1\" class=\"dataframe\">\n",
       "  <thead>\n",
       "    <tr style=\"text-align: right;\">\n",
       "      <th></th>\n",
       "      <th>url</th>\n",
       "    </tr>\n",
       "  </thead>\n",
       "  <tbody>\n",
       "    <tr>\n",
       "      <th>1701</th>\n",
       "      <td>https://www.google.com/maps/search/?api=1&amp;quer...</td>\n",
       "    </tr>\n",
       "    <tr>\n",
       "      <th>1702</th>\n",
       "      <td>https://www.google.com/maps/search/?api=1&amp;quer...</td>\n",
       "    </tr>\n",
       "    <tr>\n",
       "      <th>1703</th>\n",
       "      <td>https://www.google.com/maps/search/?api=1&amp;quer...</td>\n",
       "    </tr>\n",
       "    <tr>\n",
       "      <th>1704</th>\n",
       "      <td>https://www.google.com/maps/search/?api=1&amp;quer...</td>\n",
       "    </tr>\n",
       "    <tr>\n",
       "      <th>1705</th>\n",
       "      <td>https://www.google.com/maps/search/?api=1&amp;quer...</td>\n",
       "    </tr>\n",
       "  </tbody>\n",
       "</table>\n",
       "</div>"
      ],
      "text/plain": [
       "                                                    url\n",
       "1701  https://www.google.com/maps/search/?api=1&quer...\n",
       "1702  https://www.google.com/maps/search/?api=1&quer...\n",
       "1703  https://www.google.com/maps/search/?api=1&quer...\n",
       "1704  https://www.google.com/maps/search/?api=1&quer...\n",
       "1705  https://www.google.com/maps/search/?api=1&quer..."
      ]
     },
     "execution_count": 35,
     "metadata": {},
     "output_type": "execute_result"
    }
   ],
   "source": [
    "data_red.head()"
   ]
  },
  {
   "cell_type": "code",
   "execution_count": 36,
   "id": "bbc58c52",
   "metadata": {},
   "outputs": [],
   "source": [
    "data_red.to_csv(r'urls_b1_1701_end.txt', header=None, index=None, mode='a')"
   ]
  },
  {
   "cell_type": "code",
   "execution_count": null,
   "id": "1e8d58c7",
   "metadata": {},
   "outputs": [],
   "source": []
  }
 ],
 "metadata": {
  "kernelspec": {
   "display_name": "Python 3 (ipykernel)",
   "language": "python",
   "name": "python3"
  },
  "language_info": {
   "codemirror_mode": {
    "name": "ipython",
    "version": 3
   },
   "file_extension": ".py",
   "mimetype": "text/x-python",
   "name": "python",
   "nbconvert_exporter": "python",
   "pygments_lexer": "ipython3",
   "version": "3.10.6"
  },
  "toc": {
   "base_numbering": 1,
   "nav_menu": {},
   "number_sections": true,
   "sideBar": true,
   "skip_h1_title": false,
   "title_cell": "Table of Contents",
   "title_sidebar": "Contents",
   "toc_cell": false,
   "toc_position": {},
   "toc_section_display": true,
   "toc_window_display": false
  }
 },
 "nbformat": 4,
 "nbformat_minor": 5
}
