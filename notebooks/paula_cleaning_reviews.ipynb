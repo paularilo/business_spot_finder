{
 "cells": [
  {
   "cell_type": "code",
   "execution_count": null,
   "id": "063cb1ec",
   "metadata": {},
   "outputs": [],
   "source": [
    "import pandas as pd\n",
    "import numpy as np\n",
    "import requests\n",
    "import matplotlib.pyplot as plt"
   ]
  },
  {
   "cell_type": "markdown",
   "id": "b4542d65",
   "metadata": {},
   "source": [
    "**load reviews in .json format**"
   ]
  },
  {
   "cell_type": "code",
   "execution_count": null,
   "id": "0ea2e027",
   "metadata": {},
   "outputs": [],
   "source": [
    "data = pd.read_json('json_files/urls_reviews_5.json')"
   ]
  },
  {
   "cell_type": "code",
   "execution_count": null,
   "id": "b155a9d2",
   "metadata": {},
   "outputs": [],
   "source": [
    "data.head()"
   ]
  },
  {
   "cell_type": "code",
   "execution_count": null,
   "id": "df3e0081",
   "metadata": {},
   "outputs": [],
   "source": [
    "data.columns"
   ]
  },
  {
   "cell_type": "code",
   "execution_count": null,
   "id": "caa17189",
   "metadata": {},
   "outputs": [],
   "source": [
    "data[['totalScore', 'stars', 'reviewsCount']]"
   ]
  }
 ],
 "metadata": {
  "kernelspec": {
   "display_name": "Python 3 (ipykernel)",
   "language": "python",
   "name": "python3"
  },
  "language_info": {
   "codemirror_mode": {
    "name": "ipython",
    "version": 3
   },
   "file_extension": ".py",
   "mimetype": "text/x-python",
   "name": "python",
   "nbconvert_exporter": "python",
   "pygments_lexer": "ipython3",
   "version": "3.10.6"
  },
  "toc": {
   "base_numbering": 1,
   "nav_menu": {},
   "number_sections": true,
   "sideBar": true,
   "skip_h1_title": false,
   "title_cell": "Table of Contents",
   "title_sidebar": "Contents",
   "toc_cell": false,
   "toc_position": {},
   "toc_section_display": true,
   "toc_window_display": false
  }
 },
 "nbformat": 4,
 "nbformat_minor": 5
}
